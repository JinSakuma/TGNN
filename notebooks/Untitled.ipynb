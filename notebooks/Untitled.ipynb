{
 "cells": [
  {
   "cell_type": "code",
   "execution_count": 1,
   "metadata": {},
   "outputs": [],
   "source": [
    "import os\n",
    "import sys\n",
    "import numpy as np\n",
    "import pandas as pd\n",
    "import torch\n",
    "\n",
    "sys.path.append('..')\n",
    "from utils.utils_ctc import setup, preprocess, MyDataLoader, get_dataloader"
   ]
  },
  {
   "cell_type": "code",
   "execution_count": 2,
   "metadata": {},
   "outputs": [
    {
     "name": "stderr",
     "output_type": "stream",
     "text": [
      " 13%|█▎        | 13/100 [00:00<00:06, 13.79it/s]"
     ]
    },
    {
     "name": "stdout",
     "output_type": "stream",
     "text": [
      "/mnt/aoni04/jsakuma/data/sota/TEXT/20171202141840.vad.txt\n"
     ]
    },
    {
     "name": "stderr",
     "output_type": "stream",
     "text": [
      "100%|██████████| 100/100 [00:09<00:00, 10.87it/s]\n",
      "100%|██████████| 12/12 [00:01<00:00,  7.83it/s]\n"
     ]
    },
    {
     "name": "stdout",
     "output_type": "stream",
     "text": [
      "turn taking timing: 2512\n",
      "overlap: 392\n",
      "turn taking timing: 342\n",
      "overlap: 49\n"
     ]
    }
   ],
   "source": [
    "path = '/mnt/aoni04/jsakuma/data/sota'\n",
    "DENSE_FLAG = False\n",
    "ELAN_FLAG = True\n",
    "TARGET_TYPE = False\n",
    "\n",
    "seed = 0\n",
    "np.random.seed(seed)\n",
    "torch.manual_seed(seed)\n",
    "\n",
    "dataloaders_dict = get_dataloader(path, DENSE_FLAG, ELAN_FLAG, TARGET_TYPE)"
   ]
  },
  {
   "cell_type": "code",
   "execution_count": 3,
   "metadata": {},
   "outputs": [],
   "source": [
    "input_batch, target_batch = dataloaders_dict['val'].next()"
   ]
  },
  {
   "cell_type": "code",
   "execution_count": 65,
   "metadata": {},
   "outputs": [],
   "source": [
    "input_batch, target_batch = dataloaders_dict['val'].next()"
   ]
  },
  {
   "cell_type": "code",
   "execution_count": 66,
   "metadata": {},
   "outputs": [
    {
     "data": {
      "text/plain": [
       "(45, 128)"
      ]
     },
     "execution_count": 66,
     "metadata": {},
     "output_type": "execute_result"
    }
   ],
   "source": [
    "input_batch['voiceA'][0][0].shape"
   ]
  },
  {
   "cell_type": "code",
   "execution_count": 67,
   "metadata": {},
   "outputs": [
    {
     "data": {
      "text/plain": [
       "(45,)"
      ]
     },
     "execution_count": 67,
     "metadata": {},
     "output_type": "execute_result"
    }
   ],
   "source": [
    "input_batch['phonemeA'][0][0].shape"
   ]
  },
  {
   "cell_type": "code",
   "execution_count": 68,
   "metadata": {},
   "outputs": [
    {
     "data": {
      "text/plain": [
       "array([1., 1., 1., 1., 1., 1., 1., 1., 1., 1., 1., 1., 1., 1., 1., 1., 1.,\n",
       "       1., 1., 1., 1., 1., 1., 1., 1., 1., 1., 1., 1., 1., 1., 1., 1., 1.,\n",
       "       1., 1., 1., 1., 1., 1., 1., 1., 1., 1., 1.])"
      ]
     },
     "execution_count": 68,
     "metadata": {},
     "output_type": "execute_result"
    }
   ],
   "source": [
    "target_batch['U'][0][0]"
   ]
  },
  {
   "cell_type": "code",
   "execution_count": 9,
   "metadata": {},
   "outputs": [],
   "source": [
    "u_true, u_pred = np.array([]), np.array([])\n",
    "for input_batch, target_batch in dataloaders_dict['val']:\n",
    "    u = target_batch['U'][0]\n",
    "    for i in range(len(u)):\n",
    "        u_true = np.append(u_true, u[i])"
   ]
  },
  {
   "cell_type": "code",
   "execution_count": 10,
   "metadata": {},
   "outputs": [
    {
     "data": {
      "text/plain": [
       "88842"
      ]
     },
     "execution_count": 10,
     "metadata": {},
     "output_type": "execute_result"
    }
   ],
   "source": [
    "len(u_true)"
   ]
  },
  {
   "cell_type": "code",
   "execution_count": 11,
   "metadata": {},
   "outputs": [
    {
     "name": "stdout",
     "output_type": "stream",
     "text": [
      "550748\n"
     ]
    }
   ],
   "source": [
    "u_true, u_pred = np.array([]), np.array([])\n",
    "for input_batch, target_batch in dataloaders_dict['train']:\n",
    "    u = target_batch['U'][0]\n",
    "    for i in range(len(u)):\n",
    "        u_true = np.append(u_true, u[i])\n",
    "        \n",
    "print(len(u_true))"
   ]
  },
  {
   "cell_type": "code",
   "execution_count": 19,
   "metadata": {},
   "outputs": [
    {
     "name": "stderr",
     "output_type": "stream",
     "text": [
      " 12%|█▏        | 12/100 [00:01<00:10,  8.15it/s]"
     ]
    },
    {
     "name": "stdout",
     "output_type": "stream",
     "text": [
      "/mnt/aoni04/jsakuma/data/sota/TEXT/20171202141840.vad.txt\n"
     ]
    },
    {
     "name": "stderr",
     "output_type": "stream",
     "text": [
      "100%|██████████| 100/100 [00:11<00:00,  8.85it/s]\n",
      "100%|██████████| 12/12 [00:01<00:00,  8.03it/s]\n"
     ]
    }
   ],
   "source": [
    "path = '/mnt/aoni04/jsakuma/data/sota'\n",
    "dense_flag = False\n",
    "elan_flag = True\n",
    "\n",
    "seed = 0\n",
    "np.random.seed(seed)\n",
    "torch.manual_seed(seed)\n",
    "\n",
    "file_id = [file.replace('.feature.csv', '') for file in sorted(os.listdir(os.path.join(path, 'feature_50_p')))]\n",
    "train_num = 100\n",
    "feat_train = setup(path, file_id[:train_num], dense_flag=dense_flag, elan_flag=elan_flag)\n",
    "feat_val = setup(path, file_id[train_num:], dense_flag=dense_flag, elan_flag=elan_flag)"
   ]
  },
  {
   "cell_type": "code",
   "execution_count": 29,
   "metadata": {},
   "outputs": [
    {
     "name": "stdout",
     "output_type": "stream",
     "text": [
      "turn taking timing: 2512\n",
      "overlap: 392\n",
      "turn taking timing: 342\n",
      "overlap: 49\n"
     ]
    }
   ],
   "source": [
    "target_type=False\n",
    "input_dict_train, target_dict_train = preprocess(feat_train, target_type=target_type, phase='train')\n",
    "input_dict_val, target_dict_val = preprocess(feat_val, target_type=target_type, phase='val')"
   ]
  },
  {
   "cell_type": "code",
   "execution_count": 33,
   "metadata": {},
   "outputs": [
    {
     "name": "stdout",
     "output_type": "stream",
     "text": [
      "88842\n"
     ]
    }
   ],
   "source": [
    "cnt=0\n",
    "for i in range(12):\n",
    "    for arr in target_dict_val['U'][i]:\n",
    "        cnt+=len(arr)\n",
    "    \n",
    "print(cnt)"
   ]
  },
  {
   "cell_type": "code",
   "execution_count": 34,
   "metadata": {},
   "outputs": [
    {
     "data": {
      "text/plain": [
       "12"
      ]
     },
     "execution_count": 34,
     "metadata": {},
     "output_type": "execute_result"
    }
   ],
   "source": [
    "len(target_dict_val['y'])"
   ]
  },
  {
   "cell_type": "code",
   "execution_count": 21,
   "metadata": {},
   "outputs": [],
   "source": [
    "feat = feat_val\n",
    "i=0\n",
    "\n",
    "u = (1 - feat['feature'][i]['utter_A'].values) * (1 - feat['feature'][i]['utter_B'].values)  # 非発話度真値 AもBもOFFなら u=1\n",
    "ua = feat['u'][i]['u_pred'].values\n",
    "ub = feat['u'][i]['u_B_pred'].values\n",
    "u_pred = np.min(np.stack([ua, ub], axis=1), axis=1)"
   ]
  },
  {
   "cell_type": "code",
   "execution_count": 22,
   "metadata": {},
   "outputs": [
    {
     "data": {
      "text/plain": [
       "5502"
      ]
     },
     "execution_count": 22,
     "metadata": {},
     "output_type": "execute_result"
    }
   ],
   "source": [
    "len(u)"
   ]
  },
  {
   "cell_type": "code",
   "execution_count": 23,
   "metadata": {},
   "outputs": [
    {
     "data": {
      "text/html": [
       "<div>\n",
       "<style scoped>\n",
       "    .dataframe tbody tr th:only-of-type {\n",
       "        vertical-align: middle;\n",
       "    }\n",
       "\n",
       "    .dataframe tbody tr th {\n",
       "        vertical-align: top;\n",
       "    }\n",
       "\n",
       "    .dataframe thead th {\n",
       "        text-align: right;\n",
       "    }\n",
       "</style>\n",
       "<table border=\"1\" class=\"dataframe\">\n",
       "  <thead>\n",
       "    <tr style=\"text-align: right;\">\n",
       "      <th></th>\n",
       "      <th>u</th>\n",
       "      <th>s</th>\n",
       "    </tr>\n",
       "  </thead>\n",
       "  <tbody>\n",
       "    <tr>\n",
       "      <th>0</th>\n",
       "      <td>1.0</td>\n",
       "      <td>0.0</td>\n",
       "    </tr>\n",
       "    <tr>\n",
       "      <th>1</th>\n",
       "      <td>1.0</td>\n",
       "      <td>0.0</td>\n",
       "    </tr>\n",
       "    <tr>\n",
       "      <th>2</th>\n",
       "      <td>1.0</td>\n",
       "      <td>0.0</td>\n",
       "    </tr>\n",
       "    <tr>\n",
       "      <th>3</th>\n",
       "      <td>1.0</td>\n",
       "      <td>0.0</td>\n",
       "    </tr>\n",
       "    <tr>\n",
       "      <th>4</th>\n",
       "      <td>1.0</td>\n",
       "      <td>0.0</td>\n",
       "    </tr>\n",
       "    <tr>\n",
       "      <th>5</th>\n",
       "      <td>1.0</td>\n",
       "      <td>0.0</td>\n",
       "    </tr>\n",
       "    <tr>\n",
       "      <th>6</th>\n",
       "      <td>1.0</td>\n",
       "      <td>0.0</td>\n",
       "    </tr>\n",
       "    <tr>\n",
       "      <th>7</th>\n",
       "      <td>1.0</td>\n",
       "      <td>0.0</td>\n",
       "    </tr>\n",
       "    <tr>\n",
       "      <th>8</th>\n",
       "      <td>1.0</td>\n",
       "      <td>0.0</td>\n",
       "    </tr>\n",
       "    <tr>\n",
       "      <th>9</th>\n",
       "      <td>1.0</td>\n",
       "      <td>0.0</td>\n",
       "    </tr>\n",
       "  </tbody>\n",
       "</table>\n",
       "</div>"
      ],
      "text/plain": [
       "     u    s\n",
       "0  1.0  0.0\n",
       "1  1.0  0.0\n",
       "2  1.0  0.0\n",
       "3  1.0  0.0\n",
       "4  1.0  0.0\n",
       "5  1.0  0.0\n",
       "6  1.0  0.0\n",
       "7  1.0  0.0\n",
       "8  1.0  0.0\n",
       "9  1.0  0.0"
      ]
     },
     "execution_count": 23,
     "metadata": {},
     "output_type": "execute_result"
    }
   ],
   "source": [
    "s = np.asarray([0]+list(u[:-1]-u[1:]))\n",
    "df = pd.DataFrame({'u': u, 's': s})\n",
    "\n",
    "df.head(10)"
   ]
  },
  {
   "cell_type": "code",
   "execution_count": 24,
   "metadata": {},
   "outputs": [],
   "source": [
    "idxs = np.where(s==1)[0]"
   ]
  },
  {
   "cell_type": "code",
   "execution_count": 25,
   "metadata": {},
   "outputs": [],
   "source": [
    "def make_pack(X, idxs):\n",
    "    pack = []\n",
    "    pre=0\n",
    "    for i in idxs:\n",
    "        pack.append(X[pre:i])\n",
    "        pre = i\n",
    "\n",
    "    pack.append(X[pre:])\n",
    "    return pack"
   ]
  },
  {
   "cell_type": "code",
   "execution_count": 26,
   "metadata": {},
   "outputs": [],
   "source": [
    "pack = make_pack(u, idxs)"
   ]
  },
  {
   "cell_type": "code",
   "execution_count": 27,
   "metadata": {},
   "outputs": [],
   "source": [
    "u_true = np.array([])\n",
    "for i in range(len(pack)):\n",
    "    u_true = np.append(u_true, pack[i])"
   ]
  },
  {
   "cell_type": "code",
   "execution_count": 28,
   "metadata": {},
   "outputs": [
    {
     "data": {
      "text/plain": [
       "5502"
      ]
     },
     "execution_count": 28,
     "metadata": {},
     "output_type": "execute_result"
    }
   ],
   "source": [
    "len(u_true)"
   ]
  },
  {
   "cell_type": "code",
   "execution_count": null,
   "metadata": {},
   "outputs": [],
   "source": [
    "input_dict = {'voiceA': [], 'voiceB': [], 'img': [], 'phonemeA': [], 'phonemeB': [], 'u': []}\n",
    "    target_dict = {'y': [], 'action': []}\n",
    "\n",
    "    X, PA, PB, U, U_pred, Y, Action = [], [], [], [], [], [], []\n",
    "    OC, YC = 0, 0\n",
    "    threshold = 0.8\n",
    "    for i in range(len(feat)):\n",
    "        u = (1 - feat['feature'][i]['utter_A'].values) * (1 - feat['feature']['utter_B'].values)  # 非発話度真値 AもBもOFFなら u=1\n",
    "        ua = feat['u'][i]['u_pred'].values\n",
    "        ub = feat['u'][i]['u_B_pred'].values\n",
    "        u_pred = np.min(np.stack([ua, ub], axis=1), axis=1)\n",
    "\n",
    "        # system の顔向き情報の入れ方\n",
    "        # 画像特徴量も使う際に使用\n",
    "        if not target_type:\n",
    "            target = feat['feature'][i]['target'].map(lambda x: 0 if x == 'A' else 1).values\n",
    "            target = target.reshape(len(target), 1)\n",
    "        else:\n",
    "            target = make_target(feat['feature'][i])\n",
    "\n",
    "        img = feat['img'][i].values\n",
    "        img = np.append(target, img, axis=1)\n",
    "\n",
    "        # 教師ラベル\n",
    "        y = feat['feature'][i]['action'].map(lambda x: threshold if x in ['Active','Passive'] else 0)\n",
    "        action = feat['feature'][i]['action'].map(lambda x: 1 if x == 'Passive' else 0)\n",
    "        action_c = feat['feature'][i]['action'].map(lambda x: 1 if x in ['Active-Continue','Passive-Continue'] else 0).values\n",
    "        y[0] = 0.  # start は予測不可\n",
    "        action[0] = 0\n",
    "        y = np.asarray(y)\n",
    "        action = np.asarray(action)\n",
    "        YC += len(y[y > 0])\n",
    "        over_flg = False\n",
    "        start_i = 0\n",
    "        act_tmp = 0\n",
    "        for j in range(len(y)-1):\n",
    "            if y[j] > 0 and u[j] == 0:\n",
    "                y[j] = 0\n",
    "                action[j] = 0\n",
    "                act_tmp = action[j]\n",
    "                OC += 1\n",
    "                start_i = j\n",
    "                over_flag = True\n",
    "\n",
    "            if u[j] == 0 and u[j+1] == 1:\n",
    "                if over_flg:\n",
    "                    if abs(j-start_i) > 40:\n",
    "                        over_flag = False\n",
    "                        action_c[start_i:j+1] = 0\n",
    "                    else:\n",
    "                        y[j+2] = threshold\n",
    "                        action[j+2] = act_tmp\n",
    "                        act_tmp = 0\n",
    "                        u[j+2] = 1\n",
    "                        action_c[start_i:j+1] = 0\n",
    "                        action[start_i:j+1] = 0\n",
    "#                         action_c[j+3:j+3+(j-start_i)] = 1\n",
    "                        over_flg = False\n",
    "\n",
    "        # system の発話中ラベル\n",
    "        if phase == 'train':  # sys発話中は u(t) を下げる\n",
    "            u[action_c == 1] = 0.\n",
    "            u_pred[action_c == 1] = 0.\n",
    "        # 評価時は下げない,ただ長いシステム発話だとu(t)=1がずっと\n",
    "        # 続いて１字遅れ系は必ずthreshold超えてしまうので u=1 区間にmax値を設ける\n",
    "        else:\n",
    "            u[action_c == 1] = 1.\n",
    "#             u_pred[action_c==1] = 1.\n",
    "#             u = u_t_maxcut(u, max_frame=60)\n",
    "            u, u_pred = u_t_maxcut(u, u_pred, max_frame=60)\n",
    "\n",
    "        # 非発話区間全体のアクションラベルを統一する\n",
    "        flg = False\n",
    "        start = 0\n",
    "        end = 0\n",
    "        act_tmp = 0\n",
    "        for j in range(len(u)-1):\n",
    "            if u[j] == 0 and u[j+1] == 1:\n",
    "                start = j+1\n",
    "            if y[j] > 0:\n",
    "                flg = True\n",
    "                act_tmp = action[j]\n",
    "            if u[j] == 1 and u[j+1] == 0:\n",
    "                end = j+1\n",
    "                if flg:\n",
    "                    action[start:end] = act_tmp\n",
    "                    flg = False\n",
    "\n",
    "        x, pa_, pb_, u, u_pred, y, action = make_pack(x, pa[i], pb[i], u, u_pred, y, action)\n",
    "\n",
    "        X.append(x)\n",
    "        PA.append(pa_)\n",
    "        PB.append(pb_)\n",
    "        U.append(u)\n",
    "        U_pred.append(u_pred)\n",
    "        Y.append(y)\n",
    "        Action.append(action)\n",
    "\n",
    "    print('turn taking timing: {}'.format(YC))\n",
    "    print('overlap: {}'.format(OC))\n",
    "\n",
    "    return input_dict, target_dict\n"
   ]
  },
  {
   "cell_type": "code",
   "execution_count": null,
   "metadata": {},
   "outputs": [],
   "source": []
  },
  {
   "cell_type": "code",
   "execution_count": 11,
   "metadata": {},
   "outputs": [],
   "source": [
    "import pandas as pd\n",
    "df = pd.DataFrame(feature_dict)"
   ]
  },
  {
   "cell_type": "code",
   "execution_count": 17,
   "metadata": {},
   "outputs": [
    {
     "data": {
      "text/plain": [
       "array([[0.8877424 , 0.90143412],\n",
       "       [0.94236445, 0.97174013],\n",
       "       [0.98102772, 0.99062192],\n",
       "       ...,\n",
       "       [0.00938658, 0.94423807],\n",
       "       [0.02363596, 0.91520423],\n",
       "       [0.06521004, 0.94034523]])"
      ]
     },
     "execution_count": 17,
     "metadata": {},
     "output_type": "execute_result"
    }
   ],
   "source": []
  },
  {
   "cell_type": "code",
   "execution_count": null,
   "metadata": {},
   "outputs": [],
   "source": []
  },
  {
   "cell_type": "code",
   "execution_count": null,
   "metadata": {},
   "outputs": [],
   "source": []
  },
  {
   "cell_type": "code",
   "execution_count": 5,
   "metadata": {},
   "outputs": [],
   "source": [
    "spec_list = os.listdir('/mnt/aoni04/jsakuma/data/sota/spec/')"
   ]
  },
  {
   "cell_type": "code",
   "execution_count": 12,
   "metadata": {},
   "outputs": [],
   "source": [
    "import glob\n",
    "PATH='/mnt/aoni04/jsakuma/data/sota/'\n",
    "img_middle_feature_files = sorted(glob.glob(os.path.join(PATH, 'spec/*npy')))"
   ]
  },
  {
   "cell_type": "code",
   "execution_count": 13,
   "metadata": {},
   "outputs": [
    {
     "data": {
      "text/plain": [
       "['/mnt/aoni04/jsakuma/data/sota/spec/20171201200850.Anpy.npy',\n",
       " '/mnt/aoni04/jsakuma/data/sota/spec/20171201200850.Bnpy.npy',\n",
       " '/mnt/aoni04/jsakuma/data/sota/spec/20171201201416.Anpy.npy',\n",
       " '/mnt/aoni04/jsakuma/data/sota/spec/20171201201416.Bnpy.npy',\n",
       " '/mnt/aoni04/jsakuma/data/sota/spec/20171201202038.Anpy.npy',\n",
       " '/mnt/aoni04/jsakuma/data/sota/spec/20171201202038.Bnpy.npy',\n",
       " '/mnt/aoni04/jsakuma/data/sota/spec/20171201202722.Anpy.npy',\n",
       " '/mnt/aoni04/jsakuma/data/sota/spec/20171201202722.Bnpy.npy',\n",
       " '/mnt/aoni04/jsakuma/data/sota/spec/20171202131909.Anpy.npy',\n",
       " '/mnt/aoni04/jsakuma/data/sota/spec/20171202131909.Bnpy.npy',\n",
       " '/mnt/aoni04/jsakuma/data/sota/spec/20171202132408.Anpy.npy',\n",
       " '/mnt/aoni04/jsakuma/data/sota/spec/20171202132408.Bnpy.npy',\n",
       " '/mnt/aoni04/jsakuma/data/sota/spec/20171202133148.Anpy.npy',\n",
       " '/mnt/aoni04/jsakuma/data/sota/spec/20171202133148.Bnpy.npy',\n",
       " '/mnt/aoni04/jsakuma/data/sota/spec/20171202133728.Anpy.npy',\n",
       " '/mnt/aoni04/jsakuma/data/sota/spec/20171202133728.Bnpy.npy',\n",
       " '/mnt/aoni04/jsakuma/data/sota/spec/20171202140520.Anpy.npy',\n",
       " '/mnt/aoni04/jsakuma/data/sota/spec/20171202140520.Bnpy.npy',\n",
       " '/mnt/aoni04/jsakuma/data/sota/spec/20171202141013.Anpy.npy',\n",
       " '/mnt/aoni04/jsakuma/data/sota/spec/20171202141013.Bnpy.npy',\n",
       " '/mnt/aoni04/jsakuma/data/sota/spec/20171202141840.Anpy.npy',\n",
       " '/mnt/aoni04/jsakuma/data/sota/spec/20171202141840.Bnpy.npy',\n",
       " '/mnt/aoni04/jsakuma/data/sota/spec/20180605154750.Anpy.npy',\n",
       " '/mnt/aoni04/jsakuma/data/sota/spec/20180605154750.Bnpy.npy',\n",
       " '/mnt/aoni04/jsakuma/data/sota/spec/20180606134137.Anpy.npy',\n",
       " '/mnt/aoni04/jsakuma/data/sota/spec/20180606134137.Bnpy.npy',\n",
       " '/mnt/aoni04/jsakuma/data/sota/spec/20180606151232.Anpy.npy',\n",
       " '/mnt/aoni04/jsakuma/data/sota/spec/20180606151232.Bnpy.npy',\n",
       " '/mnt/aoni04/jsakuma/data/sota/spec/20180607150821.Anpy.npy',\n",
       " '/mnt/aoni04/jsakuma/data/sota/spec/20180607150821.Bnpy.npy',\n",
       " '/mnt/aoni04/jsakuma/data/sota/spec/20180607153509.Anpy.npy',\n",
       " '/mnt/aoni04/jsakuma/data/sota/spec/20180607153509.Bnpy.npy',\n",
       " '/mnt/aoni04/jsakuma/data/sota/spec/20180613153301.Anpy.npy',\n",
       " '/mnt/aoni04/jsakuma/data/sota/spec/20180613153301.Bnpy.npy',\n",
       " '/mnt/aoni04/jsakuma/data/sota/spec/20180613154630.Anpy.npy',\n",
       " '/mnt/aoni04/jsakuma/data/sota/spec/20180613154630.Bnpy.npy',\n",
       " '/mnt/aoni04/jsakuma/data/sota/spec/20180614145705.Anpy.npy',\n",
       " '/mnt/aoni04/jsakuma/data/sota/spec/20180614145705.Bnpy.npy',\n",
       " '/mnt/aoni04/jsakuma/data/sota/spec/20180615143627.Anpy.npy',\n",
       " '/mnt/aoni04/jsakuma/data/sota/spec/20180615143627.Bnpy.npy',\n",
       " '/mnt/aoni04/jsakuma/data/sota/spec/20180615144420.Anpy.npy',\n",
       " '/mnt/aoni04/jsakuma/data/sota/spec/20180615144420.Bnpy.npy',\n",
       " '/mnt/aoni04/jsakuma/data/sota/spec/20180618170641.Anpy.npy',\n",
       " '/mnt/aoni04/jsakuma/data/sota/spec/20180618170641.Bnpy.npy',\n",
       " '/mnt/aoni04/jsakuma/data/sota/spec/20180618180552.Anpy.npy',\n",
       " '/mnt/aoni04/jsakuma/data/sota/spec/20180618180552.Bnpy.npy',\n",
       " '/mnt/aoni04/jsakuma/data/sota/spec/20180620151635.Anpy.npy',\n",
       " '/mnt/aoni04/jsakuma/data/sota/spec/20180620151635.Bnpy.npy',\n",
       " '/mnt/aoni04/jsakuma/data/sota/spec/20180620172917.Anpy.npy',\n",
       " '/mnt/aoni04/jsakuma/data/sota/spec/20180620172917.Bnpy.npy',\n",
       " '/mnt/aoni04/jsakuma/data/sota/spec/20180620173549.Anpy.npy',\n",
       " '/mnt/aoni04/jsakuma/data/sota/spec/20180620173549.Bnpy.npy',\n",
       " '/mnt/aoni04/jsakuma/data/sota/spec/20180620174420.Anpy.npy',\n",
       " '/mnt/aoni04/jsakuma/data/sota/spec/20180620174420.Bnpy.npy',\n",
       " '/mnt/aoni04/jsakuma/data/sota/spec/20180621134142.Anpy.npy',\n",
       " '/mnt/aoni04/jsakuma/data/sota/spec/20180621134142.Bnpy.npy',\n",
       " '/mnt/aoni04/jsakuma/data/sota/spec/20180621135701.Anpy.npy',\n",
       " '/mnt/aoni04/jsakuma/data/sota/spec/20180621135701.Bnpy.npy',\n",
       " '/mnt/aoni04/jsakuma/data/sota/spec/20180622140933.Anpy.npy',\n",
       " '/mnt/aoni04/jsakuma/data/sota/spec/20180622140933.Bnpy.npy',\n",
       " '/mnt/aoni04/jsakuma/data/sota/spec/20180622141706.Anpy.npy',\n",
       " '/mnt/aoni04/jsakuma/data/sota/spec/20180622141706.Bnpy.npy',\n",
       " '/mnt/aoni04/jsakuma/data/sota/spec/20180627133314.Anpy.npy',\n",
       " '/mnt/aoni04/jsakuma/data/sota/spec/20180627133314.Bnpy.npy',\n",
       " '/mnt/aoni04/jsakuma/data/sota/spec/20180627134137.Anpy.npy',\n",
       " '/mnt/aoni04/jsakuma/data/sota/spec/20180627134137.Bnpy.npy',\n",
       " '/mnt/aoni04/jsakuma/data/sota/spec/20180627155343.Anpy.npy',\n",
       " '/mnt/aoni04/jsakuma/data/sota/spec/20180627155343.Bnpy.npy',\n",
       " '/mnt/aoni04/jsakuma/data/sota/spec/20180629132749.Anpy.npy',\n",
       " '/mnt/aoni04/jsakuma/data/sota/spec/20180629132749.Bnpy.npy',\n",
       " '/mnt/aoni04/jsakuma/data/sota/spec/20180629133627.Anpy.npy',\n",
       " '/mnt/aoni04/jsakuma/data/sota/spec/20180629133627.Bnpy.npy',\n",
       " '/mnt/aoni04/jsakuma/data/sota/spec/20180629134718.Anpy.npy',\n",
       " '/mnt/aoni04/jsakuma/data/sota/spec/20180629134718.Bnpy.npy',\n",
       " '/mnt/aoni04/jsakuma/data/sota/spec/20180703191439.Anpy.npy',\n",
       " '/mnt/aoni04/jsakuma/data/sota/spec/20180703191439.Bnpy.npy',\n",
       " '/mnt/aoni04/jsakuma/data/sota/spec/20180703191852.Anpy.npy',\n",
       " '/mnt/aoni04/jsakuma/data/sota/spec/20180703191852.Bnpy.npy',\n",
       " '/mnt/aoni04/jsakuma/data/sota/spec/20180703192510.Anpy.npy',\n",
       " '/mnt/aoni04/jsakuma/data/sota/spec/20180703192510.Bnpy.npy',\n",
       " '/mnt/aoni04/jsakuma/data/sota/spec/20180704150850.Anpy.npy',\n",
       " '/mnt/aoni04/jsakuma/data/sota/spec/20180704150850.Bnpy.npy',\n",
       " '/mnt/aoni04/jsakuma/data/sota/spec/20180704152833.Anpy.npy',\n",
       " '/mnt/aoni04/jsakuma/data/sota/spec/20180704152833.Bnpy.npy',\n",
       " '/mnt/aoni04/jsakuma/data/sota/spec/20180705152604.Anpy.npy',\n",
       " '/mnt/aoni04/jsakuma/data/sota/spec/20180705152604.Bnpy.npy',\n",
       " '/mnt/aoni04/jsakuma/data/sota/spec/20180710193346.Anpy.npy',\n",
       " '/mnt/aoni04/jsakuma/data/sota/spec/20180710193346.Bnpy.npy',\n",
       " '/mnt/aoni04/jsakuma/data/sota/spec/20180710193728.Anpy.npy',\n",
       " '/mnt/aoni04/jsakuma/data/sota/spec/20180710193728.Bnpy.npy',\n",
       " '/mnt/aoni04/jsakuma/data/sota/spec/20180710194231.Anpy.npy',\n",
       " '/mnt/aoni04/jsakuma/data/sota/spec/20180710194231.Bnpy.npy',\n",
       " '/mnt/aoni04/jsakuma/data/sota/spec/20181005134747.Anpy.npy',\n",
       " '/mnt/aoni04/jsakuma/data/sota/spec/20181005134747.Bnpy.npy',\n",
       " '/mnt/aoni04/jsakuma/data/sota/spec/20181005192635.Anpy.npy',\n",
       " '/mnt/aoni04/jsakuma/data/sota/spec/20181005192635.Bnpy.npy',\n",
       " '/mnt/aoni04/jsakuma/data/sota/spec/20181005193242.Anpy.npy',\n",
       " '/mnt/aoni04/jsakuma/data/sota/spec/20181005193242.Bnpy.npy',\n",
       " '/mnt/aoni04/jsakuma/data/sota/spec/20181005193958.Anpy.npy',\n",
       " '/mnt/aoni04/jsakuma/data/sota/spec/20181005193958.Bnpy.npy',\n",
       " '/mnt/aoni04/jsakuma/data/sota/spec/20190131201503.Anpy.npy',\n",
       " '/mnt/aoni04/jsakuma/data/sota/spec/20190131201503.Bnpy.npy',\n",
       " '/mnt/aoni04/jsakuma/data/sota/spec/20190131201827.Anpy.npy',\n",
       " '/mnt/aoni04/jsakuma/data/sota/spec/20190131201827.Bnpy.npy',\n",
       " '/mnt/aoni04/jsakuma/data/sota/spec/20190628131700.Anpy.npy',\n",
       " '/mnt/aoni04/jsakuma/data/sota/spec/20190628131700.Bnpy.npy',\n",
       " '/mnt/aoni04/jsakuma/data/sota/spec/20190628154231.Anpy.npy',\n",
       " '/mnt/aoni04/jsakuma/data/sota/spec/20190628154231.Bnpy.npy',\n",
       " '/mnt/aoni04/jsakuma/data/sota/spec/20190628154628.Anpy.npy',\n",
       " '/mnt/aoni04/jsakuma/data/sota/spec/20190628154628.Bnpy.npy',\n",
       " '/mnt/aoni04/jsakuma/data/sota/spec/20190701123928.Anpy.npy',\n",
       " '/mnt/aoni04/jsakuma/data/sota/spec/20190701123928.Bnpy.npy',\n",
       " '/mnt/aoni04/jsakuma/data/sota/spec/20190701125817.Anpy.npy',\n",
       " '/mnt/aoni04/jsakuma/data/sota/spec/20190701125817.Bnpy.npy',\n",
       " '/mnt/aoni04/jsakuma/data/sota/spec/20190701130209.Anpy.npy',\n",
       " '/mnt/aoni04/jsakuma/data/sota/spec/20190701130209.Bnpy.npy',\n",
       " '/mnt/aoni04/jsakuma/data/sota/spec/20190701161512.Anpy.npy',\n",
       " '/mnt/aoni04/jsakuma/data/sota/spec/20190701161512.Bnpy.npy',\n",
       " '/mnt/aoni04/jsakuma/data/sota/spec/20190701162103.Anpy.npy',\n",
       " '/mnt/aoni04/jsakuma/data/sota/spec/20190701162103.Bnpy.npy',\n",
       " '/mnt/aoni04/jsakuma/data/sota/spec/20190701172439.Anpy.npy',\n",
       " '/mnt/aoni04/jsakuma/data/sota/spec/20190701172439.Bnpy.npy',\n",
       " '/mnt/aoni04/jsakuma/data/sota/spec/20190702193127.Anpy.npy',\n",
       " '/mnt/aoni04/jsakuma/data/sota/spec/20190702193127.Bnpy.npy',\n",
       " '/mnt/aoni04/jsakuma/data/sota/spec/20190702193743.Anpy.npy',\n",
       " '/mnt/aoni04/jsakuma/data/sota/spec/20190702193743.Bnpy.npy',\n",
       " '/mnt/aoni04/jsakuma/data/sota/spec/20190703112318.Anpy.npy',\n",
       " '/mnt/aoni04/jsakuma/data/sota/spec/20190703112318.Bnpy.npy',\n",
       " '/mnt/aoni04/jsakuma/data/sota/spec/20190703113241.Anpy.npy',\n",
       " '/mnt/aoni04/jsakuma/data/sota/spec/20190703113241.Bnpy.npy',\n",
       " '/mnt/aoni04/jsakuma/data/sota/spec/20190703150134.Anpy.npy',\n",
       " '/mnt/aoni04/jsakuma/data/sota/spec/20190703150134.Bnpy.npy',\n",
       " '/mnt/aoni04/jsakuma/data/sota/spec/20190722130132.Anpy.npy',\n",
       " '/mnt/aoni04/jsakuma/data/sota/spec/20190722130132.Bnpy.npy',\n",
       " '/mnt/aoni04/jsakuma/data/sota/spec/20190722130640.Anpy.npy',\n",
       " '/mnt/aoni04/jsakuma/data/sota/spec/20190722130640.Bnpy.npy',\n",
       " '/mnt/aoni04/jsakuma/data/sota/spec/20190722132153.Anpy.npy',\n",
       " '/mnt/aoni04/jsakuma/data/sota/spec/20190722132153.Bnpy.npy',\n",
       " '/mnt/aoni04/jsakuma/data/sota/spec/20190722162926.Anpy.npy',\n",
       " '/mnt/aoni04/jsakuma/data/sota/spec/20190722162926.Bnpy.npy',\n",
       " '/mnt/aoni04/jsakuma/data/sota/spec/20190722163350.Anpy.npy',\n",
       " '/mnt/aoni04/jsakuma/data/sota/spec/20190722163350.Bnpy.npy',\n",
       " '/mnt/aoni04/jsakuma/data/sota/spec/20190722165807.Anpy.npy',\n",
       " '/mnt/aoni04/jsakuma/data/sota/spec/20190722165807.Bnpy.npy',\n",
       " '/mnt/aoni04/jsakuma/data/sota/spec/20190722170501.Anpy.npy',\n",
       " '/mnt/aoni04/jsakuma/data/sota/spec/20190722170501.Bnpy.npy',\n",
       " '/mnt/aoni04/jsakuma/data/sota/spec/20190722182007.Anpy.npy',\n",
       " '/mnt/aoni04/jsakuma/data/sota/spec/20190722182007.Bnpy.npy',\n",
       " '/mnt/aoni04/jsakuma/data/sota/spec/20190722182426.Anpy.npy',\n",
       " '/mnt/aoni04/jsakuma/data/sota/spec/20190722182426.Bnpy.npy',\n",
       " '/mnt/aoni04/jsakuma/data/sota/spec/20190722200833.Anpy.npy',\n",
       " '/mnt/aoni04/jsakuma/data/sota/spec/20190722200833.Bnpy.npy',\n",
       " '/mnt/aoni04/jsakuma/data/sota/spec/20190722201507.Anpy.npy',\n",
       " '/mnt/aoni04/jsakuma/data/sota/spec/20190722201507.Bnpy.npy',\n",
       " '/mnt/aoni04/jsakuma/data/sota/spec/20190722204417.Anpy.npy',\n",
       " '/mnt/aoni04/jsakuma/data/sota/spec/20190722204417.Bnpy.npy',\n",
       " '/mnt/aoni04/jsakuma/data/sota/spec/20190723093448.Anpy.npy',\n",
       " '/mnt/aoni04/jsakuma/data/sota/spec/20190723093448.Bnpy.npy',\n",
       " '/mnt/aoni04/jsakuma/data/sota/spec/20190723094344.Anpy.npy',\n",
       " '/mnt/aoni04/jsakuma/data/sota/spec/20190723094344.Bnpy.npy',\n",
       " '/mnt/aoni04/jsakuma/data/sota/spec/20190723150129.Anpy.npy',\n",
       " '/mnt/aoni04/jsakuma/data/sota/spec/20190723150129.Bnpy.npy',\n",
       " '/mnt/aoni04/jsakuma/data/sota/spec/20190723162618.Anpy.npy',\n",
       " '/mnt/aoni04/jsakuma/data/sota/spec/20190723162618.Bnpy.npy',\n",
       " '/mnt/aoni04/jsakuma/data/sota/spec/20190723163105.Anpy.npy',\n",
       " '/mnt/aoni04/jsakuma/data/sota/spec/20190723163105.Bnpy.npy',\n",
       " '/mnt/aoni04/jsakuma/data/sota/spec/20190724163456.Anpy.npy',\n",
       " '/mnt/aoni04/jsakuma/data/sota/spec/20190724163456.Bnpy.npy',\n",
       " '/mnt/aoni04/jsakuma/data/sota/spec/20190724164420.Anpy.npy',\n",
       " '/mnt/aoni04/jsakuma/data/sota/spec/20190724164420.Bnpy.npy',\n",
       " '/mnt/aoni04/jsakuma/data/sota/spec/20191205154307.Anpy.npy',\n",
       " '/mnt/aoni04/jsakuma/data/sota/spec/20191205154307.Bnpy.npy',\n",
       " '/mnt/aoni04/jsakuma/data/sota/spec/20191205170914.Anpy.npy',\n",
       " '/mnt/aoni04/jsakuma/data/sota/spec/20191205170914.Bnpy.npy',\n",
       " '/mnt/aoni04/jsakuma/data/sota/spec/20191205171738.Anpy.npy',\n",
       " '/mnt/aoni04/jsakuma/data/sota/spec/20191205171738.Bnpy.npy',\n",
       " '/mnt/aoni04/jsakuma/data/sota/spec/20191212141730.Anpy.npy',\n",
       " '/mnt/aoni04/jsakuma/data/sota/spec/20191212141730.Bnpy.npy',\n",
       " '/mnt/aoni04/jsakuma/data/sota/spec/20191212143418.Anpy.npy',\n",
       " '/mnt/aoni04/jsakuma/data/sota/spec/20191212143418.Bnpy.npy',\n",
       " '/mnt/aoni04/jsakuma/data/sota/spec/20191212151700.Anpy.npy',\n",
       " '/mnt/aoni04/jsakuma/data/sota/spec/20191212151700.Bnpy.npy',\n",
       " '/mnt/aoni04/jsakuma/data/sota/spec/20191212154550.Anpy.npy',\n",
       " '/mnt/aoni04/jsakuma/data/sota/spec/20191212154550.Bnpy.npy',\n",
       " '/mnt/aoni04/jsakuma/data/sota/spec/20191212155453.Anpy.npy',\n",
       " '/mnt/aoni04/jsakuma/data/sota/spec/20191212155453.Bnpy.npy',\n",
       " '/mnt/aoni04/jsakuma/data/sota/spec/20200222174104.A.npy',\n",
       " '/mnt/aoni04/jsakuma/data/sota/spec/20200222174104.B.npy',\n",
       " '/mnt/aoni04/jsakuma/data/sota/spec/20200302141356.A.npy',\n",
       " '/mnt/aoni04/jsakuma/data/sota/spec/20200302141356.B.npy',\n",
       " '/mnt/aoni04/jsakuma/data/sota/spec/20200302144803.A.npy',\n",
       " '/mnt/aoni04/jsakuma/data/sota/spec/20200302144803.B.npy',\n",
       " '/mnt/aoni04/jsakuma/data/sota/spec/20200302145550.A.npy',\n",
       " '/mnt/aoni04/jsakuma/data/sota/spec/20200302145550.B.npy',\n",
       " '/mnt/aoni04/jsakuma/data/sota/spec/20200302162125.A.npy',\n",
       " '/mnt/aoni04/jsakuma/data/sota/spec/20200302162125.B.npy',\n",
       " '/mnt/aoni04/jsakuma/data/sota/spec/20200302163110.A.npy',\n",
       " '/mnt/aoni04/jsakuma/data/sota/spec/20200302163110.B.npy',\n",
       " '/mnt/aoni04/jsakuma/data/sota/spec/20200302165049.A.npy',\n",
       " '/mnt/aoni04/jsakuma/data/sota/spec/20200302165049.B.npy',\n",
       " '/mnt/aoni04/jsakuma/data/sota/spec/20200306152402.A.npy',\n",
       " '/mnt/aoni04/jsakuma/data/sota/spec/20200306152402.B.npy',\n",
       " '/mnt/aoni04/jsakuma/data/sota/spec/20200306153339.A.npy',\n",
       " '/mnt/aoni04/jsakuma/data/sota/spec/20200306153339.B.npy',\n",
       " '/mnt/aoni04/jsakuma/data/sota/spec/20200306154554.A.npy',\n",
       " '/mnt/aoni04/jsakuma/data/sota/spec/20200306154554.B.npy',\n",
       " '/mnt/aoni04/jsakuma/data/sota/spec/20200306161346.A.npy',\n",
       " '/mnt/aoni04/jsakuma/data/sota/spec/20200306161346.B.npy',\n",
       " '/mnt/aoni04/jsakuma/data/sota/spec/20200306162848.A.npy',\n",
       " '/mnt/aoni04/jsakuma/data/sota/spec/20200306162848.B.npy',\n",
       " '/mnt/aoni04/jsakuma/data/sota/spec/20200306164214.A.npy',\n",
       " '/mnt/aoni04/jsakuma/data/sota/spec/20200306164214.B.npy',\n",
       " '/mnt/aoni04/jsakuma/data/sota/spec/20200306172011.A.npy',\n",
       " '/mnt/aoni04/jsakuma/data/sota/spec/20200306172011.B.npy',\n",
       " '/mnt/aoni04/jsakuma/data/sota/spec/20200306174023.A.npy',\n",
       " '/mnt/aoni04/jsakuma/data/sota/spec/20200306174023.B.npy',\n",
       " '/mnt/aoni04/jsakuma/data/sota/spec/20200306175149.A.npy',\n",
       " '/mnt/aoni04/jsakuma/data/sota/spec/20200306175149.B.npy',\n",
       " '/mnt/aoni04/jsakuma/data/sota/spec/20200313111904.A.npy',\n",
       " '/mnt/aoni04/jsakuma/data/sota/spec/20200313111904.B.npy',\n",
       " '/mnt/aoni04/jsakuma/data/sota/spec/20200313112843.A.npy',\n",
       " '/mnt/aoni04/jsakuma/data/sota/spec/20200313112843.B.npy',\n",
       " '/mnt/aoni04/jsakuma/data/sota/spec/20200313115320.A.npy',\n",
       " '/mnt/aoni04/jsakuma/data/sota/spec/20200313115320.B.npy']"
      ]
     },
     "execution_count": 13,
     "metadata": {},
     "output_type": "execute_result"
    }
   ],
   "source": [
    "img_middle_feature_files"
   ]
  },
  {
   "cell_type": "code",
   "execution_count": 16,
   "metadata": {},
   "outputs": [
    {
     "name": "stderr",
     "output_type": "stream",
     "text": [
      "100%|██████████| 224/224 [00:00<00:00, 1988.09it/s]\n"
     ]
    }
   ],
   "source": [
    "from tqdm import tqdm\n",
    "for path in tqdm(img_middle_feature_files):\n",
    "    if 'Anpy' in path:\n",
    "        path2 = path.replace('Anpy', 'A')\n",
    "        os.rename(path, path2) \n",
    "    elif 'Bnpy' in path:\n",
    "        path2 = path.replace('Bnpy', 'B')\n",
    "        os.rename(path, path2) "
   ]
  },
  {
   "cell_type": "code",
   "execution_count": 7,
   "metadata": {},
   "outputs": [
    {
     "name": "stdout",
     "output_type": "stream",
     "text": [
      "20200222174104.B.npy\n",
      "20200222174104.A.npy\n"
     ]
    }
   ],
   "source": [
    "for i in spec_list:\n",
    "    if '20200222174104' in i:\n",
    "        print(i)"
   ]
  },
  {
   "cell_type": "code",
   "execution_count": null,
   "metadata": {},
   "outputs": [],
   "source": [
    "    X_train, PA_train, PB_train, u_train, up_train, y_train, action_train = preprocess(feat_train, target_type=target_type, phase='train')\n",
    "    X_val, PA_val, PB_val, u_val, up_val, y_val, action_val = preprocess(feat_val, target_type=target_type, phase='val')\n",
    "\n",
    "    train_loader = MyDataLoader(X_train, PA_train, PB_train, u_train, up_train, y_train, action_train, shuffle=True, batch_size=batch_size)\n",
    "    val_loader = MyDataLoader(X_val, PA_val, PB_val, u_val, up_val, y_val, action_val, shuffle=False, batch_size=batch_size)\n",
    "\n",
    "    dataloaders_dict = {\"train\": train_loader, \"val\": val_loader}\n",
    "    return dataloaders_dict\n",
    "\n"
   ]
  }
 ],
 "metadata": {
  "kernelspec": {
   "display_name": "Python 3",
   "language": "python",
   "name": "python3"
  },
  "language_info": {
   "codemirror_mode": {
    "name": "ipython",
    "version": 3
   },
   "file_extension": ".py",
   "mimetype": "text/x-python",
   "name": "python",
   "nbconvert_exporter": "python",
   "pygments_lexer": "ipython3",
   "version": "3.7.6"
  },
  "toc": {
   "base_numbering": 1,
   "nav_menu": {},
   "number_sections": true,
   "sideBar": true,
   "skip_h1_title": false,
   "title_cell": "Table of Contents",
   "title_sidebar": "Contents",
   "toc_cell": false,
   "toc_position": {},
   "toc_section_display": true,
   "toc_window_display": false
  }
 },
 "nbformat": 4,
 "nbformat_minor": 4
}
