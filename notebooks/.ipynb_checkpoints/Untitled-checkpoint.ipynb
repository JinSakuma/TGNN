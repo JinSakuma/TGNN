{
 "cells": [
  {
   "cell_type": "code",
   "execution_count": 1,
   "metadata": {},
   "outputs": [],
   "source": [
    "import os\n",
    "import sys\n",
    "import numpy as np\n",
    "\n",
    "sys.path.append('..')\n",
    "from utils.utils_ctc_multitask import setup"
   ]
  },
  {
   "cell_type": "code",
   "execution_count": 2,
   "metadata": {},
   "outputs": [
    {
     "name": "stderr",
     "output_type": "stream",
     "text": [
      "  1%|          | 1/112 [00:00<00:20,  5.30it/s]"
     ]
    },
    {
     "name": "stdout",
     "output_type": "stream",
     "text": [
      "file length is 112\n"
     ]
    },
    {
     "name": "stderr",
     "output_type": "stream",
     "text": [
      "  9%|▉         | 10/112 [00:01<00:14,  7.25it/s]"
     ]
    },
    {
     "name": "stdout",
     "output_type": "stream",
     "text": [
      "/mnt/aoni04/jsakuma/data/sota/TEXT/20171202141840.vad.txt\n"
     ]
    },
    {
     "name": "stderr",
     "output_type": "stream",
     "text": [
      "100%|██████████| 112/112 [00:16<00:00,  6.89it/s]\n"
     ]
    },
    {
     "ename": "NameError",
     "evalue": "name 'feature_dict' is not defined",
     "output_type": "error",
     "traceback": [
      "\u001b[0;31m---------------------------------------------------------------------------\u001b[0m",
      "\u001b[0;31mNameError\u001b[0m                                 Traceback (most recent call last)",
      "\u001b[0;32m<ipython-input-2-92dfd2eef3f0>\u001b[0m in \u001b[0;36m<module>\u001b[0;34m\u001b[0m\n\u001b[1;32m      4\u001b[0m \u001b[0mfeaure_dict\u001b[0m \u001b[0;34m=\u001b[0m \u001b[0msetup\u001b[0m\u001b[0;34m(\u001b[0m\u001b[0mpath\u001b[0m\u001b[0;34m,\u001b[0m \u001b[0mdense_flag\u001b[0m\u001b[0;34m=\u001b[0m\u001b[0mdense_flag\u001b[0m\u001b[0;34m,\u001b[0m \u001b[0melan_flag\u001b[0m\u001b[0;34m=\u001b[0m\u001b[0melan_flag\u001b[0m\u001b[0;34m)\u001b[0m\u001b[0;34m\u001b[0m\u001b[0;34m\u001b[0m\u001b[0m\n\u001b[1;32m      5\u001b[0m \u001b[0mtrain_id\u001b[0m \u001b[0;34m=\u001b[0m \u001b[0;36m100\u001b[0m\u001b[0;34m\u001b[0m\u001b[0;34m\u001b[0m\u001b[0m\n\u001b[0;32m----> 6\u001b[0;31m \u001b[0mfeat_train\u001b[0m \u001b[0;34m=\u001b[0m \u001b[0mfeature_dict\u001b[0m\u001b[0;34m[\u001b[0m\u001b[0;34m:\u001b[0m\u001b[0mtrain_id\u001b[0m\u001b[0;34m]\u001b[0m\u001b[0;34m\u001b[0m\u001b[0;34m\u001b[0m\u001b[0m\n\u001b[0m\u001b[1;32m      7\u001b[0m \u001b[0mfeat_val\u001b[0m \u001b[0;34m=\u001b[0m \u001b[0mfeature_dict\u001b[0m\u001b[0;34m[\u001b[0m\u001b[0mtrain_id\u001b[0m\u001b[0;34m:\u001b[0m\u001b[0;34m]\u001b[0m\u001b[0;34m\u001b[0m\u001b[0;34m\u001b[0m\u001b[0m\n",
      "\u001b[0;31mNameError\u001b[0m: name 'feature_dict' is not defined"
     ]
    }
   ],
   "source": [
    "path = '/mnt/aoni04/jsakuma/data/sota'\n",
    "dense_flag = False\n",
    "elan_flag = True\n",
    "feautre_dict = setup(path, dense_flag=dense_flag, elan_flag=elan_flag)\n",
    "train_id = 100\n",
    "feat_train = feature_dict[:train_id]\n",
    "feat_val = feature_dict[train_id:]"
   ]
  },
  {
   "cell_type": "code",
   "execution_count": 5,
   "metadata": {},
   "outputs": [],
   "source": [
    "spec_list = os.listdir('/mnt/aoni04/jsakuma/data/sota/spec/')"
   ]
  },
  {
   "cell_type": "code",
   "execution_count": 12,
   "metadata": {},
   "outputs": [],
   "source": [
    "import glob\n",
    "PATH='/mnt/aoni04/jsakuma/data/sota/'\n",
    "img_middle_feature_files = sorted(glob.glob(os.path.join(PATH, 'spec/*npy')))"
   ]
  },
  {
   "cell_type": "code",
   "execution_count": 13,
   "metadata": {},
   "outputs": [
    {
     "data": {
      "text/plain": [
       "['/mnt/aoni04/jsakuma/data/sota/spec/20171201200850.Anpy.npy',\n",
       " '/mnt/aoni04/jsakuma/data/sota/spec/20171201200850.Bnpy.npy',\n",
       " '/mnt/aoni04/jsakuma/data/sota/spec/20171201201416.Anpy.npy',\n",
       " '/mnt/aoni04/jsakuma/data/sota/spec/20171201201416.Bnpy.npy',\n",
       " '/mnt/aoni04/jsakuma/data/sota/spec/20171201202038.Anpy.npy',\n",
       " '/mnt/aoni04/jsakuma/data/sota/spec/20171201202038.Bnpy.npy',\n",
       " '/mnt/aoni04/jsakuma/data/sota/spec/20171201202722.Anpy.npy',\n",
       " '/mnt/aoni04/jsakuma/data/sota/spec/20171201202722.Bnpy.npy',\n",
       " '/mnt/aoni04/jsakuma/data/sota/spec/20171202131909.Anpy.npy',\n",
       " '/mnt/aoni04/jsakuma/data/sota/spec/20171202131909.Bnpy.npy',\n",
       " '/mnt/aoni04/jsakuma/data/sota/spec/20171202132408.Anpy.npy',\n",
       " '/mnt/aoni04/jsakuma/data/sota/spec/20171202132408.Bnpy.npy',\n",
       " '/mnt/aoni04/jsakuma/data/sota/spec/20171202133148.Anpy.npy',\n",
       " '/mnt/aoni04/jsakuma/data/sota/spec/20171202133148.Bnpy.npy',\n",
       " '/mnt/aoni04/jsakuma/data/sota/spec/20171202133728.Anpy.npy',\n",
       " '/mnt/aoni04/jsakuma/data/sota/spec/20171202133728.Bnpy.npy',\n",
       " '/mnt/aoni04/jsakuma/data/sota/spec/20171202140520.Anpy.npy',\n",
       " '/mnt/aoni04/jsakuma/data/sota/spec/20171202140520.Bnpy.npy',\n",
       " '/mnt/aoni04/jsakuma/data/sota/spec/20171202141013.Anpy.npy',\n",
       " '/mnt/aoni04/jsakuma/data/sota/spec/20171202141013.Bnpy.npy',\n",
       " '/mnt/aoni04/jsakuma/data/sota/spec/20171202141840.Anpy.npy',\n",
       " '/mnt/aoni04/jsakuma/data/sota/spec/20171202141840.Bnpy.npy',\n",
       " '/mnt/aoni04/jsakuma/data/sota/spec/20180605154750.Anpy.npy',\n",
       " '/mnt/aoni04/jsakuma/data/sota/spec/20180605154750.Bnpy.npy',\n",
       " '/mnt/aoni04/jsakuma/data/sota/spec/20180606134137.Anpy.npy',\n",
       " '/mnt/aoni04/jsakuma/data/sota/spec/20180606134137.Bnpy.npy',\n",
       " '/mnt/aoni04/jsakuma/data/sota/spec/20180606151232.Anpy.npy',\n",
       " '/mnt/aoni04/jsakuma/data/sota/spec/20180606151232.Bnpy.npy',\n",
       " '/mnt/aoni04/jsakuma/data/sota/spec/20180607150821.Anpy.npy',\n",
       " '/mnt/aoni04/jsakuma/data/sota/spec/20180607150821.Bnpy.npy',\n",
       " '/mnt/aoni04/jsakuma/data/sota/spec/20180607153509.Anpy.npy',\n",
       " '/mnt/aoni04/jsakuma/data/sota/spec/20180607153509.Bnpy.npy',\n",
       " '/mnt/aoni04/jsakuma/data/sota/spec/20180613153301.Anpy.npy',\n",
       " '/mnt/aoni04/jsakuma/data/sota/spec/20180613153301.Bnpy.npy',\n",
       " '/mnt/aoni04/jsakuma/data/sota/spec/20180613154630.Anpy.npy',\n",
       " '/mnt/aoni04/jsakuma/data/sota/spec/20180613154630.Bnpy.npy',\n",
       " '/mnt/aoni04/jsakuma/data/sota/spec/20180614145705.Anpy.npy',\n",
       " '/mnt/aoni04/jsakuma/data/sota/spec/20180614145705.Bnpy.npy',\n",
       " '/mnt/aoni04/jsakuma/data/sota/spec/20180615143627.Anpy.npy',\n",
       " '/mnt/aoni04/jsakuma/data/sota/spec/20180615143627.Bnpy.npy',\n",
       " '/mnt/aoni04/jsakuma/data/sota/spec/20180615144420.Anpy.npy',\n",
       " '/mnt/aoni04/jsakuma/data/sota/spec/20180615144420.Bnpy.npy',\n",
       " '/mnt/aoni04/jsakuma/data/sota/spec/20180618170641.Anpy.npy',\n",
       " '/mnt/aoni04/jsakuma/data/sota/spec/20180618170641.Bnpy.npy',\n",
       " '/mnt/aoni04/jsakuma/data/sota/spec/20180618180552.Anpy.npy',\n",
       " '/mnt/aoni04/jsakuma/data/sota/spec/20180618180552.Bnpy.npy',\n",
       " '/mnt/aoni04/jsakuma/data/sota/spec/20180620151635.Anpy.npy',\n",
       " '/mnt/aoni04/jsakuma/data/sota/spec/20180620151635.Bnpy.npy',\n",
       " '/mnt/aoni04/jsakuma/data/sota/spec/20180620172917.Anpy.npy',\n",
       " '/mnt/aoni04/jsakuma/data/sota/spec/20180620172917.Bnpy.npy',\n",
       " '/mnt/aoni04/jsakuma/data/sota/spec/20180620173549.Anpy.npy',\n",
       " '/mnt/aoni04/jsakuma/data/sota/spec/20180620173549.Bnpy.npy',\n",
       " '/mnt/aoni04/jsakuma/data/sota/spec/20180620174420.Anpy.npy',\n",
       " '/mnt/aoni04/jsakuma/data/sota/spec/20180620174420.Bnpy.npy',\n",
       " '/mnt/aoni04/jsakuma/data/sota/spec/20180621134142.Anpy.npy',\n",
       " '/mnt/aoni04/jsakuma/data/sota/spec/20180621134142.Bnpy.npy',\n",
       " '/mnt/aoni04/jsakuma/data/sota/spec/20180621135701.Anpy.npy',\n",
       " '/mnt/aoni04/jsakuma/data/sota/spec/20180621135701.Bnpy.npy',\n",
       " '/mnt/aoni04/jsakuma/data/sota/spec/20180622140933.Anpy.npy',\n",
       " '/mnt/aoni04/jsakuma/data/sota/spec/20180622140933.Bnpy.npy',\n",
       " '/mnt/aoni04/jsakuma/data/sota/spec/20180622141706.Anpy.npy',\n",
       " '/mnt/aoni04/jsakuma/data/sota/spec/20180622141706.Bnpy.npy',\n",
       " '/mnt/aoni04/jsakuma/data/sota/spec/20180627133314.Anpy.npy',\n",
       " '/mnt/aoni04/jsakuma/data/sota/spec/20180627133314.Bnpy.npy',\n",
       " '/mnt/aoni04/jsakuma/data/sota/spec/20180627134137.Anpy.npy',\n",
       " '/mnt/aoni04/jsakuma/data/sota/spec/20180627134137.Bnpy.npy',\n",
       " '/mnt/aoni04/jsakuma/data/sota/spec/20180627155343.Anpy.npy',\n",
       " '/mnt/aoni04/jsakuma/data/sota/spec/20180627155343.Bnpy.npy',\n",
       " '/mnt/aoni04/jsakuma/data/sota/spec/20180629132749.Anpy.npy',\n",
       " '/mnt/aoni04/jsakuma/data/sota/spec/20180629132749.Bnpy.npy',\n",
       " '/mnt/aoni04/jsakuma/data/sota/spec/20180629133627.Anpy.npy',\n",
       " '/mnt/aoni04/jsakuma/data/sota/spec/20180629133627.Bnpy.npy',\n",
       " '/mnt/aoni04/jsakuma/data/sota/spec/20180629134718.Anpy.npy',\n",
       " '/mnt/aoni04/jsakuma/data/sota/spec/20180629134718.Bnpy.npy',\n",
       " '/mnt/aoni04/jsakuma/data/sota/spec/20180703191439.Anpy.npy',\n",
       " '/mnt/aoni04/jsakuma/data/sota/spec/20180703191439.Bnpy.npy',\n",
       " '/mnt/aoni04/jsakuma/data/sota/spec/20180703191852.Anpy.npy',\n",
       " '/mnt/aoni04/jsakuma/data/sota/spec/20180703191852.Bnpy.npy',\n",
       " '/mnt/aoni04/jsakuma/data/sota/spec/20180703192510.Anpy.npy',\n",
       " '/mnt/aoni04/jsakuma/data/sota/spec/20180703192510.Bnpy.npy',\n",
       " '/mnt/aoni04/jsakuma/data/sota/spec/20180704150850.Anpy.npy',\n",
       " '/mnt/aoni04/jsakuma/data/sota/spec/20180704150850.Bnpy.npy',\n",
       " '/mnt/aoni04/jsakuma/data/sota/spec/20180704152833.Anpy.npy',\n",
       " '/mnt/aoni04/jsakuma/data/sota/spec/20180704152833.Bnpy.npy',\n",
       " '/mnt/aoni04/jsakuma/data/sota/spec/20180705152604.Anpy.npy',\n",
       " '/mnt/aoni04/jsakuma/data/sota/spec/20180705152604.Bnpy.npy',\n",
       " '/mnt/aoni04/jsakuma/data/sota/spec/20180710193346.Anpy.npy',\n",
       " '/mnt/aoni04/jsakuma/data/sota/spec/20180710193346.Bnpy.npy',\n",
       " '/mnt/aoni04/jsakuma/data/sota/spec/20180710193728.Anpy.npy',\n",
       " '/mnt/aoni04/jsakuma/data/sota/spec/20180710193728.Bnpy.npy',\n",
       " '/mnt/aoni04/jsakuma/data/sota/spec/20180710194231.Anpy.npy',\n",
       " '/mnt/aoni04/jsakuma/data/sota/spec/20180710194231.Bnpy.npy',\n",
       " '/mnt/aoni04/jsakuma/data/sota/spec/20181005134747.Anpy.npy',\n",
       " '/mnt/aoni04/jsakuma/data/sota/spec/20181005134747.Bnpy.npy',\n",
       " '/mnt/aoni04/jsakuma/data/sota/spec/20181005192635.Anpy.npy',\n",
       " '/mnt/aoni04/jsakuma/data/sota/spec/20181005192635.Bnpy.npy',\n",
       " '/mnt/aoni04/jsakuma/data/sota/spec/20181005193242.Anpy.npy',\n",
       " '/mnt/aoni04/jsakuma/data/sota/spec/20181005193242.Bnpy.npy',\n",
       " '/mnt/aoni04/jsakuma/data/sota/spec/20181005193958.Anpy.npy',\n",
       " '/mnt/aoni04/jsakuma/data/sota/spec/20181005193958.Bnpy.npy',\n",
       " '/mnt/aoni04/jsakuma/data/sota/spec/20190131201503.Anpy.npy',\n",
       " '/mnt/aoni04/jsakuma/data/sota/spec/20190131201503.Bnpy.npy',\n",
       " '/mnt/aoni04/jsakuma/data/sota/spec/20190131201827.Anpy.npy',\n",
       " '/mnt/aoni04/jsakuma/data/sota/spec/20190131201827.Bnpy.npy',\n",
       " '/mnt/aoni04/jsakuma/data/sota/spec/20190628131700.Anpy.npy',\n",
       " '/mnt/aoni04/jsakuma/data/sota/spec/20190628131700.Bnpy.npy',\n",
       " '/mnt/aoni04/jsakuma/data/sota/spec/20190628154231.Anpy.npy',\n",
       " '/mnt/aoni04/jsakuma/data/sota/spec/20190628154231.Bnpy.npy',\n",
       " '/mnt/aoni04/jsakuma/data/sota/spec/20190628154628.Anpy.npy',\n",
       " '/mnt/aoni04/jsakuma/data/sota/spec/20190628154628.Bnpy.npy',\n",
       " '/mnt/aoni04/jsakuma/data/sota/spec/20190701123928.Anpy.npy',\n",
       " '/mnt/aoni04/jsakuma/data/sota/spec/20190701123928.Bnpy.npy',\n",
       " '/mnt/aoni04/jsakuma/data/sota/spec/20190701125817.Anpy.npy',\n",
       " '/mnt/aoni04/jsakuma/data/sota/spec/20190701125817.Bnpy.npy',\n",
       " '/mnt/aoni04/jsakuma/data/sota/spec/20190701130209.Anpy.npy',\n",
       " '/mnt/aoni04/jsakuma/data/sota/spec/20190701130209.Bnpy.npy',\n",
       " '/mnt/aoni04/jsakuma/data/sota/spec/20190701161512.Anpy.npy',\n",
       " '/mnt/aoni04/jsakuma/data/sota/spec/20190701161512.Bnpy.npy',\n",
       " '/mnt/aoni04/jsakuma/data/sota/spec/20190701162103.Anpy.npy',\n",
       " '/mnt/aoni04/jsakuma/data/sota/spec/20190701162103.Bnpy.npy',\n",
       " '/mnt/aoni04/jsakuma/data/sota/spec/20190701172439.Anpy.npy',\n",
       " '/mnt/aoni04/jsakuma/data/sota/spec/20190701172439.Bnpy.npy',\n",
       " '/mnt/aoni04/jsakuma/data/sota/spec/20190702193127.Anpy.npy',\n",
       " '/mnt/aoni04/jsakuma/data/sota/spec/20190702193127.Bnpy.npy',\n",
       " '/mnt/aoni04/jsakuma/data/sota/spec/20190702193743.Anpy.npy',\n",
       " '/mnt/aoni04/jsakuma/data/sota/spec/20190702193743.Bnpy.npy',\n",
       " '/mnt/aoni04/jsakuma/data/sota/spec/20190703112318.Anpy.npy',\n",
       " '/mnt/aoni04/jsakuma/data/sota/spec/20190703112318.Bnpy.npy',\n",
       " '/mnt/aoni04/jsakuma/data/sota/spec/20190703113241.Anpy.npy',\n",
       " '/mnt/aoni04/jsakuma/data/sota/spec/20190703113241.Bnpy.npy',\n",
       " '/mnt/aoni04/jsakuma/data/sota/spec/20190703150134.Anpy.npy',\n",
       " '/mnt/aoni04/jsakuma/data/sota/spec/20190703150134.Bnpy.npy',\n",
       " '/mnt/aoni04/jsakuma/data/sota/spec/20190722130132.Anpy.npy',\n",
       " '/mnt/aoni04/jsakuma/data/sota/spec/20190722130132.Bnpy.npy',\n",
       " '/mnt/aoni04/jsakuma/data/sota/spec/20190722130640.Anpy.npy',\n",
       " '/mnt/aoni04/jsakuma/data/sota/spec/20190722130640.Bnpy.npy',\n",
       " '/mnt/aoni04/jsakuma/data/sota/spec/20190722132153.Anpy.npy',\n",
       " '/mnt/aoni04/jsakuma/data/sota/spec/20190722132153.Bnpy.npy',\n",
       " '/mnt/aoni04/jsakuma/data/sota/spec/20190722162926.Anpy.npy',\n",
       " '/mnt/aoni04/jsakuma/data/sota/spec/20190722162926.Bnpy.npy',\n",
       " '/mnt/aoni04/jsakuma/data/sota/spec/20190722163350.Anpy.npy',\n",
       " '/mnt/aoni04/jsakuma/data/sota/spec/20190722163350.Bnpy.npy',\n",
       " '/mnt/aoni04/jsakuma/data/sota/spec/20190722165807.Anpy.npy',\n",
       " '/mnt/aoni04/jsakuma/data/sota/spec/20190722165807.Bnpy.npy',\n",
       " '/mnt/aoni04/jsakuma/data/sota/spec/20190722170501.Anpy.npy',\n",
       " '/mnt/aoni04/jsakuma/data/sota/spec/20190722170501.Bnpy.npy',\n",
       " '/mnt/aoni04/jsakuma/data/sota/spec/20190722182007.Anpy.npy',\n",
       " '/mnt/aoni04/jsakuma/data/sota/spec/20190722182007.Bnpy.npy',\n",
       " '/mnt/aoni04/jsakuma/data/sota/spec/20190722182426.Anpy.npy',\n",
       " '/mnt/aoni04/jsakuma/data/sota/spec/20190722182426.Bnpy.npy',\n",
       " '/mnt/aoni04/jsakuma/data/sota/spec/20190722200833.Anpy.npy',\n",
       " '/mnt/aoni04/jsakuma/data/sota/spec/20190722200833.Bnpy.npy',\n",
       " '/mnt/aoni04/jsakuma/data/sota/spec/20190722201507.Anpy.npy',\n",
       " '/mnt/aoni04/jsakuma/data/sota/spec/20190722201507.Bnpy.npy',\n",
       " '/mnt/aoni04/jsakuma/data/sota/spec/20190722204417.Anpy.npy',\n",
       " '/mnt/aoni04/jsakuma/data/sota/spec/20190722204417.Bnpy.npy',\n",
       " '/mnt/aoni04/jsakuma/data/sota/spec/20190723093448.Anpy.npy',\n",
       " '/mnt/aoni04/jsakuma/data/sota/spec/20190723093448.Bnpy.npy',\n",
       " '/mnt/aoni04/jsakuma/data/sota/spec/20190723094344.Anpy.npy',\n",
       " '/mnt/aoni04/jsakuma/data/sota/spec/20190723094344.Bnpy.npy',\n",
       " '/mnt/aoni04/jsakuma/data/sota/spec/20190723150129.Anpy.npy',\n",
       " '/mnt/aoni04/jsakuma/data/sota/spec/20190723150129.Bnpy.npy',\n",
       " '/mnt/aoni04/jsakuma/data/sota/spec/20190723162618.Anpy.npy',\n",
       " '/mnt/aoni04/jsakuma/data/sota/spec/20190723162618.Bnpy.npy',\n",
       " '/mnt/aoni04/jsakuma/data/sota/spec/20190723163105.Anpy.npy',\n",
       " '/mnt/aoni04/jsakuma/data/sota/spec/20190723163105.Bnpy.npy',\n",
       " '/mnt/aoni04/jsakuma/data/sota/spec/20190724163456.Anpy.npy',\n",
       " '/mnt/aoni04/jsakuma/data/sota/spec/20190724163456.Bnpy.npy',\n",
       " '/mnt/aoni04/jsakuma/data/sota/spec/20190724164420.Anpy.npy',\n",
       " '/mnt/aoni04/jsakuma/data/sota/spec/20190724164420.Bnpy.npy',\n",
       " '/mnt/aoni04/jsakuma/data/sota/spec/20191205154307.Anpy.npy',\n",
       " '/mnt/aoni04/jsakuma/data/sota/spec/20191205154307.Bnpy.npy',\n",
       " '/mnt/aoni04/jsakuma/data/sota/spec/20191205170914.Anpy.npy',\n",
       " '/mnt/aoni04/jsakuma/data/sota/spec/20191205170914.Bnpy.npy',\n",
       " '/mnt/aoni04/jsakuma/data/sota/spec/20191205171738.Anpy.npy',\n",
       " '/mnt/aoni04/jsakuma/data/sota/spec/20191205171738.Bnpy.npy',\n",
       " '/mnt/aoni04/jsakuma/data/sota/spec/20191212141730.Anpy.npy',\n",
       " '/mnt/aoni04/jsakuma/data/sota/spec/20191212141730.Bnpy.npy',\n",
       " '/mnt/aoni04/jsakuma/data/sota/spec/20191212143418.Anpy.npy',\n",
       " '/mnt/aoni04/jsakuma/data/sota/spec/20191212143418.Bnpy.npy',\n",
       " '/mnt/aoni04/jsakuma/data/sota/spec/20191212151700.Anpy.npy',\n",
       " '/mnt/aoni04/jsakuma/data/sota/spec/20191212151700.Bnpy.npy',\n",
       " '/mnt/aoni04/jsakuma/data/sota/spec/20191212154550.Anpy.npy',\n",
       " '/mnt/aoni04/jsakuma/data/sota/spec/20191212154550.Bnpy.npy',\n",
       " '/mnt/aoni04/jsakuma/data/sota/spec/20191212155453.Anpy.npy',\n",
       " '/mnt/aoni04/jsakuma/data/sota/spec/20191212155453.Bnpy.npy',\n",
       " '/mnt/aoni04/jsakuma/data/sota/spec/20200222174104.A.npy',\n",
       " '/mnt/aoni04/jsakuma/data/sota/spec/20200222174104.B.npy',\n",
       " '/mnt/aoni04/jsakuma/data/sota/spec/20200302141356.A.npy',\n",
       " '/mnt/aoni04/jsakuma/data/sota/spec/20200302141356.B.npy',\n",
       " '/mnt/aoni04/jsakuma/data/sota/spec/20200302144803.A.npy',\n",
       " '/mnt/aoni04/jsakuma/data/sota/spec/20200302144803.B.npy',\n",
       " '/mnt/aoni04/jsakuma/data/sota/spec/20200302145550.A.npy',\n",
       " '/mnt/aoni04/jsakuma/data/sota/spec/20200302145550.B.npy',\n",
       " '/mnt/aoni04/jsakuma/data/sota/spec/20200302162125.A.npy',\n",
       " '/mnt/aoni04/jsakuma/data/sota/spec/20200302162125.B.npy',\n",
       " '/mnt/aoni04/jsakuma/data/sota/spec/20200302163110.A.npy',\n",
       " '/mnt/aoni04/jsakuma/data/sota/spec/20200302163110.B.npy',\n",
       " '/mnt/aoni04/jsakuma/data/sota/spec/20200302165049.A.npy',\n",
       " '/mnt/aoni04/jsakuma/data/sota/spec/20200302165049.B.npy',\n",
       " '/mnt/aoni04/jsakuma/data/sota/spec/20200306152402.A.npy',\n",
       " '/mnt/aoni04/jsakuma/data/sota/spec/20200306152402.B.npy',\n",
       " '/mnt/aoni04/jsakuma/data/sota/spec/20200306153339.A.npy',\n",
       " '/mnt/aoni04/jsakuma/data/sota/spec/20200306153339.B.npy',\n",
       " '/mnt/aoni04/jsakuma/data/sota/spec/20200306154554.A.npy',\n",
       " '/mnt/aoni04/jsakuma/data/sota/spec/20200306154554.B.npy',\n",
       " '/mnt/aoni04/jsakuma/data/sota/spec/20200306161346.A.npy',\n",
       " '/mnt/aoni04/jsakuma/data/sota/spec/20200306161346.B.npy',\n",
       " '/mnt/aoni04/jsakuma/data/sota/spec/20200306162848.A.npy',\n",
       " '/mnt/aoni04/jsakuma/data/sota/spec/20200306162848.B.npy',\n",
       " '/mnt/aoni04/jsakuma/data/sota/spec/20200306164214.A.npy',\n",
       " '/mnt/aoni04/jsakuma/data/sota/spec/20200306164214.B.npy',\n",
       " '/mnt/aoni04/jsakuma/data/sota/spec/20200306172011.A.npy',\n",
       " '/mnt/aoni04/jsakuma/data/sota/spec/20200306172011.B.npy',\n",
       " '/mnt/aoni04/jsakuma/data/sota/spec/20200306174023.A.npy',\n",
       " '/mnt/aoni04/jsakuma/data/sota/spec/20200306174023.B.npy',\n",
       " '/mnt/aoni04/jsakuma/data/sota/spec/20200306175149.A.npy',\n",
       " '/mnt/aoni04/jsakuma/data/sota/spec/20200306175149.B.npy',\n",
       " '/mnt/aoni04/jsakuma/data/sota/spec/20200313111904.A.npy',\n",
       " '/mnt/aoni04/jsakuma/data/sota/spec/20200313111904.B.npy',\n",
       " '/mnt/aoni04/jsakuma/data/sota/spec/20200313112843.A.npy',\n",
       " '/mnt/aoni04/jsakuma/data/sota/spec/20200313112843.B.npy',\n",
       " '/mnt/aoni04/jsakuma/data/sota/spec/20200313115320.A.npy',\n",
       " '/mnt/aoni04/jsakuma/data/sota/spec/20200313115320.B.npy']"
      ]
     },
     "execution_count": 13,
     "metadata": {},
     "output_type": "execute_result"
    }
   ],
   "source": [
    "img_middle_feature_files"
   ]
  },
  {
   "cell_type": "code",
   "execution_count": 16,
   "metadata": {},
   "outputs": [
    {
     "name": "stderr",
     "output_type": "stream",
     "text": [
      "100%|██████████| 224/224 [00:00<00:00, 1988.09it/s]\n"
     ]
    }
   ],
   "source": [
    "from tqdm import tqdm\n",
    "for path in tqdm(img_middle_feature_files):\n",
    "    if 'Anpy' in path:\n",
    "        path2 = path.replace('Anpy', 'A')\n",
    "        os.rename(path, path2) \n",
    "    elif 'Bnpy' in path:\n",
    "        path2 = path.replace('Bnpy', 'B')\n",
    "        os.rename(path, path2) "
   ]
  },
  {
   "cell_type": "code",
   "execution_count": 7,
   "metadata": {},
   "outputs": [
    {
     "name": "stdout",
     "output_type": "stream",
     "text": [
      "20200222174104.B.npy\n",
      "20200222174104.A.npy\n"
     ]
    }
   ],
   "source": [
    "for i in spec_list:\n",
    "    if '20200222174104' in i:\n",
    "        print(i)"
   ]
  },
  {
   "cell_type": "code",
   "execution_count": null,
   "metadata": {},
   "outputs": [],
   "source": [
    "    X_train, PA_train, PB_train, u_train, up_train, y_train, action_train = preprocess(feat_train, target_type=target_type, phase='train')\n",
    "    X_val, PA_val, PB_val, u_val, up_val, y_val, action_val = preprocess(feat_val, target_type=target_type, phase='val')\n",
    "\n",
    "    train_loader = MyDataLoader(X_train, PA_train, PB_train, u_train, up_train, y_train, action_train, shuffle=True, batch_size=batch_size)\n",
    "    val_loader = MyDataLoader(X_val, PA_val, PB_val, u_val, up_val, y_val, action_val, shuffle=False, batch_size=batch_size)\n",
    "\n",
    "    dataloaders_dict = {\"train\": train_loader, \"val\": val_loader}\n",
    "    return dataloaders_dict\n",
    "\n"
   ]
  }
 ],
 "metadata": {
  "kernelspec": {
   "display_name": "Python 3",
   "language": "python",
   "name": "python3"
  },
  "toc": {
   "base_numbering": 1,
   "nav_menu": {},
   "number_sections": true,
   "sideBar": true,
   "skip_h1_title": false,
   "title_cell": "Table of Contents",
   "title_sidebar": "Contents",
   "toc_cell": false,
   "toc_position": {},
   "toc_section_display": true,
   "toc_window_display": false
  }
 },
 "nbformat": 4,
 "nbformat_minor": 4
}
