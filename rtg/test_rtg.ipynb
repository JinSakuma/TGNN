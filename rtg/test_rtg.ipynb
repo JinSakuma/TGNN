{
 "cells": [
  {
   "cell_type": "code",
   "execution_count": 1,
   "metadata": {},
   "outputs": [],
   "source": [
    "import os\n",
    "import sys\n",
    "import numpy as np\n",
    "import pandas as pd\n",
    "import torch\n",
    "from tqdm import tqdm\n",
    "import matplotlib.pyplot as plt\n",
    "\n",
    "%matplotlib inline\n",
    "\n",
    "# sys.path.append('..')\n",
    "from utils.utils_ctc import setup, preprocess, MyDataLoader, get_dataloader\n",
    "# from utils.utils_ctc import setup, preprocess, MyDataLoader, get_dataloader"
   ]
  },
  {
   "cell_type": "code",
   "execution_count": 2,
   "metadata": {},
   "outputs": [
    {
     "name": "stderr",
     "output_type": "stream",
     "text": [
      " 12%|█▏        | 12/100 [00:00<00:06, 14.51it/s]"
     ]
    },
    {
     "name": "stdout",
     "output_type": "stream",
     "text": [
      "/mnt/aoni04/jsakuma/data/sota/TEXT/20171202141840.vad.txt\n"
     ]
    },
    {
     "name": "stderr",
     "output_type": "stream",
     "text": [
      "100%|██████████| 100/100 [00:06<00:00, 15.83it/s]\n",
      "100%|██████████| 12/12 [00:01<00:00, 11.99it/s]\n"
     ]
    },
    {
     "name": "stdout",
     "output_type": "stream",
     "text": [
      "turn taking timing: 2512\n",
      "overlap: 680\n",
      "turn taking timing: 342\n",
      "overlap: 111\n"
     ]
    }
   ],
   "source": [
    "path = '/mnt/aoni04/jsakuma/data/sota'\n",
    "DENSE_FLAG = False\n",
    "ELAN_FLAG = True\n",
    "TARGET_TYPE = False\n",
    "\n",
    "seed = 0\n",
    "np.random.seed(seed)\n",
    "torch.manual_seed(seed)\n",
    "\n",
    "dataloaders_dict = get_dataloader(path, DENSE_FLAG, ELAN_FLAG, TARGET_TYPE)"
   ]
  },
  {
   "cell_type": "code",
   "execution_count": 3,
   "metadata": {},
   "outputs": [],
   "source": [
    "from models.model import RTG\n",
    "from utils.trainer import trainer\n",
    "\n",
    "input_size = 128\n",
    "input_img_size = 65\n",
    "hidden_size = 64\n",
    "input_p_size = 64\n",
    "ctc_flg = True\n",
    "\n",
    "net = RTG(mode=6,\n",
    "            input_size=input_size,\n",
    "            input_img_size=input_img_size,\n",
    "            input_p_size=input_p_size,\n",
    "            hidden_size=hidden_size,\n",
    "            ctc=ctc_flg)"
   ]
  },
  {
   "cell_type": "code",
   "execution_count": 4,
   "metadata": {},
   "outputs": [
    {
     "data": {
      "text/plain": [
       "RTG(\n",
       "  (softmax): Softmax(dim=-1)\n",
       "  (criterion): CrossEntropyLoss()\n",
       "  (lstm_vad): LSTM(128, 64, batch_first=True)\n",
       "  (lstm_img): LSTM(65, 64, batch_first=True)\n",
       "  (lstm_lng): LSTM(64, 64, batch_first=True)\n",
       "  (fc): Linear(in_features=321, out_features=2, bias=True)\n",
       ")"
      ]
     },
     "execution_count": 4,
     "metadata": {},
     "output_type": "execute_result"
    }
   ],
   "source": [
    "weight_path = '/mnt/aoni04/katayama/share/work/1224/TGNN/rtg/logs/ctc/1225/seed0/202012250209/epoch_8_loss_0.1708_score0.884.pth'\n",
    "net.load_state_dict(torch.load(weight_path))\n",
    "net.eval()"
   ]
  },
  {
   "cell_type": "code",
   "execution_count": 5,
   "metadata": {},
   "outputs": [
    {
     "data": {
      "text/plain": [
       "RTG(\n",
       "  (softmax): Softmax(dim=-1)\n",
       "  (criterion): CrossEntropyLoss()\n",
       "  (lstm_vad): LSTM(128, 64, batch_first=True)\n",
       "  (lstm_img): LSTM(65, 64, batch_first=True)\n",
       "  (lstm_lng): LSTM(64, 64, batch_first=True)\n",
       "  (fc): Linear(in_features=321, out_features=2, bias=True)\n",
       ")"
      ]
     },
     "execution_count": 5,
     "metadata": {},
     "output_type": "execute_result"
    }
   ],
   "source": [
    "mode=6\n",
    "device=torch.device('cuda')\n",
    "net.to(device)"
   ]
  },
  {
   "cell_type": "code",
   "execution_count": 6,
   "metadata": {},
   "outputs": [
    {
     "name": "stderr",
     "output_type": "stream",
     "text": [
      "100%|██████████| 12/12 [00:11<00:00,  1.05it/s]\n"
     ]
    }
   ],
   "source": [
    "epoch_loss = 0\n",
    "train_cnt = 0\n",
    "a_pred = np.array([])\n",
    "u_true, u_pred, u_pred_hat = np.array([]), np.array([]), np.array([])\n",
    "y_true, y_pred = np.array([]), np.array([])\n",
    "\n",
    "with torch.no_grad():\n",
    "    for batch in tqdm(dataloaders_dict['val']):\n",
    "        out, a = np.zeros(5), np.zeros(5)\n",
    "        net.reset_state()\n",
    "        if mode == 2 or mode >= 4:\n",
    "                net.reset_phoneme()\n",
    "\n",
    "        for i in range(len(batch[0])):\n",
    "            output_dict = net(batch[0][i])\n",
    "\n",
    "            u_true = np.append(u_true, batch[0][i]['u'])\n",
    "            y_true = np.append(y_true, batch[0][i]['y'])\n",
    "            y_pred = np.append(y_pred, output_dict['y'])\n",
    "\n",
    "            loss = output_dict['loss']\n",
    "            if loss != 0 and loss != -1:\n",
    "                net.back_trancut()\n",
    "                loss = loss.item()\n",
    "\n",
    "            epoch_loss += loss\n",
    "            loss = 0\n",
    "            train_cnt += output_dict['cnt']\n",
    "\n",
    "    epoch_loss = epoch_loss / train_cnt\n",
    "    \n",
    "#     if only_eval:\n",
    "#         return {\n",
    "#             'y':y_true,\n",
    "#             'y_pred': y_pred,\n",
    "#             'u': u_true,\n",
    "#             'silence': silence_list\n",
    "#         }"
   ]
  },
  {
   "cell_type": "code",
   "execution_count": 7,
   "metadata": {},
   "outputs": [],
   "source": [
    "# 評価用に後処理\n",
    "y_true2 = y_true[1:] - y_true[:-1]\n",
    "y_true2 = np.maximum(y_true2, 0)\n",
    "y_true2 = np.concatenate([[0],y_true2])"
   ]
  },
  {
   "cell_type": "code",
   "execution_count": 8,
   "metadata": {},
   "outputs": [],
   "source": [
    "import math\n",
    "def quantitative_evaluation(\n",
    "                    epoch,\n",
    "                    y_true,\n",
    "                    y_pred,\n",
    "                    u,\n",
    "                    threshold=0.8,\n",
    "                    frame=50,\n",
    "                    resume=True,\n",
    "                    output='./',\n",
    "                    eval_flg=False,\n",
    "                    only_VAD_ON=False,\n",
    "                    HO=0\n",
    "                    ):\n",
    "    target = False\n",
    "    pred = False\n",
    "    flag = True\n",
    "    AnsDistTP = []\n",
    "    AnsDistFN = []\n",
    "    PredDistTP = []\n",
    "    PredDistFP = []\n",
    "    Distance = []\n",
    "    logDistance = []\n",
    "    TP, FP, FN = 0, 0, 0\n",
    "    start_frame = 0\n",
    "    cnt=0\n",
    "    for i in range(len(u)-1):\n",
    "        if u[i] == 0 and u[i+1] == 1:\n",
    "            start_frame = i-6  # u が　0->1 になったタイミング\n",
    "\n",
    "        #  発話中 : 評価対象外\n",
    "        if u[i] == 0:\n",
    "            target = False\n",
    "            pred = False\n",
    "\n",
    "        #  予測が閾値を超えたタイミング\n",
    "        if y_pred[i] >= threshold and flag :\n",
    "            if i > 0 and not only_VAD_ON:\n",
    "                if u[i] == 0 and y_pred[i-1] < threshold:\n",
    "                    FP += 1\n",
    "            if u[i] > 0:\n",
    "                pred = True\n",
    "                flag = False\n",
    "                pred_frame = i\n",
    "\n",
    "        #  正解ラベルのタイミング\n",
    "        if y_true[i] > 0:\n",
    "            target = True\n",
    "            target_frame = i\n",
    "\n",
    "        #  u_t が 1→0 に変わるタイミング or u(t)=1 が 一定以上続いた時\n",
    "        if (u[i] == 1 and u[i+1] == 0):\n",
    "            cnt+=1\n",
    "            flag = True\n",
    "            if pred and target:\n",
    "                TP += 1\n",
    "                AnsDistTP.append((target_frame-start_frame)*frame)\n",
    "                PredDistTP.append((pred_frame+HO-start_frame)*frame)\n",
    "                Distance.append((pred_frame-target_frame+HO)*frame)\n",
    "                logDistance.append(np.log((pred_frame-start_frame+HO)*frame+1)-np.log((target_frame-start_frame)*frame+1))\n",
    "            elif pred:\n",
    "                FP += 1\n",
    "                PredDistFP.append((pred_frame+HO-start_frame)*frame)\n",
    "            elif target:\n",
    "                AnsDistFN.append((target_frame-start_frame)*frame)\n",
    "                FN += 1\n",
    "\n",
    "    if TP > 0:\n",
    "        precision = TP / (TP + FP)\n",
    "        recall = TP / (TP + FN)\n",
    "        f1 = precision * recall * 2 / (precision + recall)\n",
    "    else:\n",
    "        precision = recall = f1 = 0\n",
    "\n",
    "    score = 0\n",
    "    for d in Distance:\n",
    "        score += abs(d)\n",
    "\n",
    "    if len(Distance) > 0:\n",
    "        score = float(score)/len(Distance)\n",
    "    else:\n",
    "        score = -1\n",
    "\n",
    "    log_score = 0\n",
    "    for d in logDistance:\n",
    "        log_score += abs(d**2)\n",
    "\n",
    "    if len(logDistance) > 0:\n",
    "        log_score = math.sqrt(float(log_score)/len(logDistance))\n",
    "    else:\n",
    "        log_score = -1\n",
    "\n",
    "    print(TP, FP, FN)\n",
    "    print('precision:{:.4f}, recall:{:.4f}, f1: {:.4f}, score:{:.4f}, log score:{:.4f}'.format(precision, recall, f1, score, log_score))\n",
    "\n",
    "    if resume:\n",
    "        fo = open(os.path.join(output, 'eval_report.txt'), 'a')\n",
    "        print(\"\"\"\n",
    "            Epoch: {}, precision:{:.4f}, recall:{:.4f}, f1: {:.4f}, MAE:{:.4f}, RMSLE:{:.4f}\n",
    "            \"\"\".format(epoch, precision, recall, f1, score, log_score), file=fo)\n",
    "        fo.close()\n",
    "\n",
    "#     (R, P, F), (R_log, P_log, F_log) = get_F(Distance, logDistance, TP, FP, FN)\n",
    "#     f_log_score = (F[10])  # 許容誤差0.7,1.1の時のf1の平均 (F0.7+F1.1)/2\n",
    "    print(cnt)\n",
    "    if eval_flg:\n",
    "        return precision, recall, f1, Distance, logDistance, (TP, FP, FN), AnsDistTP, AnsDistFN, PredDistTP, PredDistFP\n",
    "\n",
    "    return precision, recall, f1, Distance, logDistance, AnsDistTP, AnsDistFN, PredDistTP, PredDistFP"
   ]
  },
  {
   "cell_type": "code",
   "execution_count": 9,
   "metadata": {},
   "outputs": [
    {
     "name": "stdout",
     "output_type": "stream",
     "text": [
      "283 35 42\n",
      "precision:0.8899, recall:0.8708, f1: 0.8802, score:592.9329, log score:0.8193\n",
      "860\n"
     ]
    }
   ],
   "source": [
    "threshold=0.8\n",
    "precision, recall, f1, Distance, LogDistance, AnsDistTP, AnsDistFN, PredDistTP, PredDistFP = quantitative_evaluation(\n",
    "                                                            1, y_true2, y_pred, u_true, threshold=threshold, \n",
    "                                                            resume=False, output='.', eval_flg=False, only_VAD_ON=True, HO=0)"
   ]
  },
  {
   "cell_type": "code",
   "execution_count": 10,
   "metadata": {},
   "outputs": [
    {
     "ename": "SyntaxError",
     "evalue": "invalid syntax (<ipython-input-10-5546c6a06f02>, line 1)",
     "output_type": "error",
     "traceback": [
      "\u001b[0;36m  File \u001b[0;32m\"<ipython-input-10-5546c6a06f02>\"\u001b[0;36m, line \u001b[0;32m1\u001b[0m\n\u001b[0;31m    287 35 42\u001b[0m\n\u001b[0m         ^\u001b[0m\n\u001b[0;31mSyntaxError\u001b[0m\u001b[0;31m:\u001b[0m invalid syntax\n"
     ]
    }
   ],
   "source": [
    "287 35 42\n",
    "precision:0.8913, recall:0.8723, f1: 0.8817, score:856.0976, log score:1.3640\n",
    "948"
   ]
  },
  {
   "cell_type": "code",
   "execution_count": 11,
   "metadata": {},
   "outputs": [
    {
     "data": {
      "image/png": "[encoded data removed]",
      "text/plain": [
       "<Figure size 432x288 with 1 Axes>"
      ]
     },
     "metadata": {
      "needs_background": "light"
     },
     "output_type": "display_data"
    }
   ],
   "source": [
    "_=plt.hist(AnsDistFN+AnsDistTP, bins=30)"
   ]
  },
  {
   "cell_type": "code",
   "execution_count": 12,
   "metadata": {},
   "outputs": [
    {
     "data": {
      "text/plain": [
       "(0, 80)"
      ]
     },
     "execution_count": 12,
     "metadata": {},
     "output_type": "execute_result"
    },
    {
     "data": {
      "image/png": "[encoded data removed]",
      "text/plain": [
       "<Figure size 432x288 with 1 Axes>"
      ]
     },
     "metadata": {
      "needs_background": "light"
     },
     "output_type": "display_data"
    }
   ],
   "source": [
    "bins=plt.hist([AnsDistTP, AnsDistFN], bins = np.arange(0,3000,100), histtype=\"barstacked\", label=['TP', 'FN'])\n",
    "plt.legend()\n",
    "plt.title('RTG')\n",
    "plt.ylim((0, 80))"
   ]
  },
  {
   "cell_type": "code",
   "execution_count": 13,
   "metadata": {},
   "outputs": [
    {
     "data": {
      "text/plain": [
       "(0, 100)"
      ]
     },
     "execution_count": 13,
     "metadata": {},
     "output_type": "execute_result"
    },
    {
     "data": {
      "image/png": "[encoded data removed]",
      "text/plain": [
       "<Figure size 432x288 with 1 Axes>"
      ]
     },
     "metadata": {
      "needs_background": "light"
     },
     "output_type": "display_data"
    }
   ],
   "source": [
    "bins=plt.hist([PredDistTP, PredDistFP], bins = np.arange(0,3000,100), histtype=\"barstacked\", label=['TP', 'FP'])\n",
    "plt.legend()\n",
    "plt.title('RTG')\n",
    "plt.ylim((0, 100))"
   ]
  },
  {
   "cell_type": "code",
   "execution_count": 13,
   "metadata": {},
   "outputs": [
    {
     "data": {
      "text/plain": [
       "329"
      ]
     },
     "execution_count": 13,
     "metadata": {},
     "output_type": "execute_result"
    }
   ],
   "source": [
    "AnsDistFN=np.asarray(AnsDistFN)\n",
    "AnsDistTP=np.asarray(AnsDistTP)\n",
    "len(AnsDistFN)+len(AnsDistTP)"
   ]
  },
  {
   "cell_type": "code",
   "execution_count": null,
   "metadata": {},
   "outputs": [],
   "source": []
  }
 ],
 "metadata": {
  "kernelspec": {
   "display_name": "Python 3",
   "language": "python",
   "name": "python3"
  },
  "language_info": {
   "codemirror_mode": {
    "name": "ipython",
    "version": 3
   },
   "file_extension": ".py",
   "mimetype": "text/x-python",
   "name": "python",
   "nbconvert_exporter": "python",
   "pygments_lexer": "ipython3",
   "version": "3.7.6"
  },
  "toc": {
   "base_numbering": 1,
   "nav_menu": {},
   "number_sections": true,
   "sideBar": true,
   "skip_h1_title": false,
   "title_cell": "Table of Contents",
   "title_sidebar": "Contents",
   "toc_cell": false,
   "toc_position": {},
   "toc_section_display": true,
   "toc_window_display": false
  }
 },
 "nbformat": 4,
 "nbformat_minor": 4
}
